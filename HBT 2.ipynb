{
 "cells": [
  {
   "cell_type": "code",
   "execution_count": 5,
   "metadata": {},
   "outputs": [],
   "source": [
    "a=[10638,10510,10328,10586,10531,10368,10681,10364,10275,10499,10520,10567,10503,10694,10495,10516,10266,10308,10635,10300,10515,10446,10474,10742,10190,10336]\n",
    "b=[12209,11941,11841,12183,11905,12226,12366,12056,12075,12163,11884,12050,12072,12109,11971,12224,11918,12091,12285,12045,11956,11899,12031,12047,11995,11966]\n",
    "g=[28649,29013,28976,29226,28799,28781,28937,28917,28703,28533,28834,28901,28473,28642,29060,28935,28473,28591,29004,28508,28331,28753,28526,28970,28644,28872]\n",
    "ab=[0,0,0,0,0,0,0,2,0,1,0,0,0,0,1,0,0,0,0,0,0,0,0,1,0,0]\n",
    "ag=[439,427,423,419,437,377,372,358,390,359,366,369,395,402,392,392,401,344,352,388,361,361,370,383,348,367]\n",
    "bg=[219,224,231,242,210,225,215,206,193,183,162,214,218,189,192,203,208,202,192,187,184,187,208,210,199,182]\n",
    "abg=[0,0,0,0,0,0,0,0,0,0,0,0,0,0,0,0,0,0,0,0,0,0,0,0,0,0]"
   ]
  },
  {
   "cell_type": "code",
   "execution_count": 6,
   "metadata": {},
   "outputs": [
    {
     "name": "stdout",
     "output_type": "stream",
     "text": [
      "26\n"
     ]
    }
   ],
   "source": [
    "count=len(abg)\n",
    "print (count)\n",
    "#they all said 26"
   ]
  },
  {
   "cell_type": "code",
   "execution_count": 7,
   "metadata": {},
   "outputs": [
    {
     "name": "stdout",
     "output_type": "stream",
     "text": [
      "10472.576923076924 is the average for a\n",
      "12058.0 is the average for b\n",
      "28771.19230769231 is the average for g\n",
      "0.19230769230769232 is the average for ab\n",
      "384.3076923076923 is the average for ag\n",
      "203.26923076923077 is the average for bg\n",
      "0.0 is the average for abg\n"
     ]
    }
   ],
   "source": [
    "averagea= sum(a)/ len(a)\n",
    "print (averagea, \"is the average for a\")\n",
    "averageb= sum(b)/ len(b)\n",
    "print (averageb, \"is the average for b\")\n",
    "averageg= sum(g)/ len(g)\n",
    "print (averageg, \"is the average for g\")\n",
    "averageab= sum(ab)/ len(ab)\n",
    "print (averageab, \"is the average for ab\")\n",
    "averageag= sum(ag)/ len(ag)\n",
    "print (averageag, \"is the average for ag\")\n",
    "averagebg= sum(bg)/ len(bg)\n",
    "print (averagebg, \"is the average for bg\")\n",
    "averageabg= sum(abg)/ len(abg)\n",
    "print (averageabg, \"is the average for abg\")"
   ]
  },
  {
   "cell_type": "code",
   "execution_count": 8,
   "metadata": {},
   "outputs": [
    {
     "name": "stdout",
     "output_type": "stream",
     "text": [
      "2.0204533206153847 accidental rate for ab\n",
      "4.820936393775149 accidental rate for ag\n",
      "5.550768589538462 accidental rate for bg\n"
     ]
    }
   ],
   "source": [
    "time=0.000000008* 2\n",
    "accidentalab= averagea* averageb* time\n",
    "print (accidentalab, \"accidental rate for ab\")\n",
    "\n",
    "accidentalag= averagea* averageg* time\n",
    "print (accidentalag, \"accidental rate for ag\")\n",
    "\n",
    "accidentalbg= averageg* averageb* time\n",
    "print (accidentalbg,\"accidental rate for bg\")"
   ]
  },
  {
   "cell_type": "code",
   "execution_count": 11,
   "metadata": {},
   "outputs": [
    {
     "name": "stdout",
     "output_type": "stream",
     "text": [
      "0.0742322412071006\n"
     ]
    }
   ],
   "source": [
    "time=0.000000008* 2\n",
    "accidentalabg= time *((averageab* averageg) + (averageb* averageag))\n",
    "print (accidentalabg)"
   ]
  },
  {
   "cell_type": "code",
   "execution_count": 14,
   "metadata": {},
   "outputs": [
    {
     "name": "stdout",
     "output_type": "stream",
     "text": [
      "102.33560926225496\n",
      "109.80892495603443\n",
      "169.6207307721916\n",
      "0.4385290096535146\n",
      "19.60376729885591\n",
      "14.257251865953368\n",
      "0.0\n"
     ]
    }
   ],
   "source": [
    "sqrta= averagea** (1/2)\n",
    "sqrtb= averageb** (1/2)\n",
    "sqrtg= averageg** (1/2)\n",
    "sqrtab= averageab** (1/2)\n",
    "sqrtag= averageag** (1/2)\n",
    "sqrtbg= averagebg** (1/2)\n",
    "sqrtabg= averageabg** (1/2)\n",
    "\n",
    "print (sqrta)\n",
    "print (sqrtb)\n",
    "print (sqrtg)\n",
    "print (sqrtab)\n",
    "print (sqrtag)\n",
    "print (sqrtbg)\n",
    "print (sqrtabg)"
   ]
  },
  {
   "cell_type": "code",
   "execution_count": null,
   "metadata": {},
   "outputs": [],
   "source": []
  }
 ],
 "metadata": {
  "kernelspec": {
   "display_name": "Python 3",
   "language": "python",
   "name": "python3"
  },
  "language_info": {
   "codemirror_mode": {
    "name": "ipython",
    "version": 3
   },
   "file_extension": ".py",
   "mimetype": "text/x-python",
   "name": "python",
   "nbconvert_exporter": "python",
   "pygments_lexer": "ipython3",
   "version": "3.6.5"
  }
 },
 "nbformat": 4,
 "nbformat_minor": 2
}
